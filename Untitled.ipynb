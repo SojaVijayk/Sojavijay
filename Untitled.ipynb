
{
 "cells": [
  {
   "cell_type": "code",
   "execution_count": 1,
   "id": "33ecad45",
   "metadata": {},
   "outputs": [
    {
     "name": "stdout",
     "output_type": "stream",
     "text": [
      "Enter the sides:4\n",
      "The area of the square is: 16\n"
     ]
    }
   ],
   "source": [
    "s=int(input(\"Enter the sides:\"))\n",
    "area=s**2\n",
    "print(\"The area of the square is:\",area)"
   ]
  },
  {
   "cell_type": "code",
   "execution_count": 3,
   "id": "24fcf288",
   "metadata": {},
   "outputs": [
    {
     "name": "stdout",
     "output_type": "stream",
     "text": [
      "Enter the base of a triangle:6\n",
      "Enter the height of a triangle:4\n",
      "The area of a right angled triangle is: 12.0\n"
     ]
    }
   ],
   "source": [
    "a=float(input(\"Enter the base of a triangle:\"))\n",
    "b=float(input(\"Enter the height of a triangle:\"))\n",
    "area=0.5*a*b\n",
    "print(\"The area of a right angled triangle is:\",area)"
   ]
  },
  {
   "cell_type": "code",
   "execution_count": 9,
   "id": "253b03f3",
   "metadata": {},
   "outputs": [
    {
     "name": "stdout",
     "output_type": "stream",
     "text": [
      "Enter the name of the user:Soja\n",
      "Hello, Soja !\n"
     ]
    }
   ],
   "source": [
    "n=input(\"Enter the name of the user:\")\n",
    "print(\"Hello,\",n,'!')"
   ]
  },
  {
   "cell_type": "code",
   "execution_count": 10,
   "id": "c3723b88",
   "metadata": {},
   "outputs": [
    {
     "name": "stdout",
     "output_type": "stream",
     "text": [
      "Enter a number:3\n",
      "The previous number is 2\n",
      "The number after is 4\n"
     ]
    }
   ],
   "source": [
    "a=int(input(\"Enter a number:\"))\n",
    "b=a-1\n",
    "c=a+1\n",
    "print(\"The previous number is\",b)\n",
    "print(\"The number after is\",c)"
   ]
  },
  {
   "cell_type": "code",
   "execution_count": 11,
   "id": "abc1e723",
   "metadata": {},
   "outputs": [
    {
     "name": "stdout",
     "output_type": "stream",
     "text": [
      "Enter the principal amount:1000\n",
      "Enter the rate:4\n",
      "Enter the time:3\n",
      "The simple interest is 120.0\n"
     ]
    }
   ],
   "source": [
    "p=int(input(\"Enter the principal amount:\"))\n",
    "r=int(input(\"Enter the rate:\"))\n",
    "t=int(input(\"Enter the time:\"))\n",
    "SI=p*r*t/100\n",
    "print(\"The simple interest is\",SI)"
   ]
  },
  {
   "cell_type": "code",
   "execution_count": null,
   "id": "d66cd0c9",
   "metadata": {},
   "outputs": [],
   "source": []
  }
 ],
 "metadata": {
  "kernelspec": {
   "display_name": "Python 3 (ipykernel)",
   "language": "python",
   "name": "python3"
  },
  "language_info": {
   "codemirror_mode": {
    "name": "ipython",
    "version": 3
   },
   "file_extension": ".py",
   "mimetype": "text/x-python",
   "name": "python",
   "nbconvert_exporter": "python",
   "pygments_lexer": "ipython3",
   "version": "3.12.3"
  }
 },
 "nbformat": 4,
 "nbformat_minor": 5
}
