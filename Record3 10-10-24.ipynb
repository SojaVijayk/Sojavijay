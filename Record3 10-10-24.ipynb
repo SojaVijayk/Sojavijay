
{
 "cells": [
  {
   "cell_type": "code",
   "execution_count": 1,
   "id": "44789dd7",
   "metadata": {},
   "outputs": [
    {
     "name": "stdout",
     "output_type": "stream",
     "text": [
      "Enter a word:grand\n",
      "your word is exchanged: drang\n"
     ]
    }
   ],
   "source": [
    "#first and last chars\n",
    "s=input(\"Enter a word:\")\n",
    "c=s[-1]+s[1:-1]+s[0]\n",
    "print(\"your word is exchanged:\",c)"
   ]
  },
  {
   "cell_type": "code",
   "execution_count": 11,
   "id": "c52b239f",
   "metadata": {},
   "outputs": [
    {
     "name": "stdout",
     "output_type": "stream",
     "text": [
      "Enter first word:soja\n",
      "Enter second word:vijay\n",
      "voja sijay\n"
     ]
    }
   ],
   "source": [
    "# program to get a single string from two strings\n",
    "a=input(\"Enter first word:\")\n",
    "b=input(\"Enter second word:\")\n",
    "c=b[0]+a[1:]+\" \"+a[0]+b[1:]\n",
    "print(c)\n"
   ]
  },
  {
   "cell_type": "code",
   "execution_count": 7,
   "id": "72c9dde4",
   "metadata": {},
   "outputs": [
    {
     "name": "stdout",
     "output_type": "stream",
     "text": [
      "enter a word:after day\n",
      "after d$y\n"
     ]
    }
   ],
   "source": [
    "#program to get a string from a given string where alla occurance of its first char have been changed to$\n",
    "a=input(\"enter a word:\")\n",
    "b=a[0]+a[1:].replace(a[0],\"$\")\n",
    "print(b)"
   ]
  },
  {
   "cell_type": "code",
   "execution_count": 9,
   "id": "161d17cd",
   "metadata": {},
   "outputs": [
    {
     "name": "stdout",
     "output_type": "stream",
     "text": [
      "Enter first color:blue\n",
      "Enter second color:green\n",
      "Enter third color:black\n",
      "Enter fourth color:purple\n",
      "blue,green,black,purple\n",
      "first color= blue\n",
      "last color= purple\n"
     ]
    }
   ],
   "source": [
    "#list of colors\n",
    "a=input(\"Enter first color:\")\n",
    "b=input(\"Enter second color:\")\n",
    "c=input(\"Enter third color:\")\n",
    "d=input(\"Enter fourth color:\")\n",
    "o=a[0:]+\",\"+b[0:]+\",\"+c[0:]+\",\"+d[0:]\n",
    "n=a[0:]\n",
    "h=d[0:]\n",
    "print(o)\n",
    "print(\"first color=\",n)\n",
    "print(\"last color=\",h)"
   ]
  },
  {
   "cell_type": "code",
   "execution_count": 12,
   "id": "601d8292",
   "metadata": {},
   "outputs": [
    {
     "name": "stdout",
     "output_type": "stream",
     "text": [
      "Enter your filename:soja.jpeg\n",
      "extension- jpeg\n"
     ]
    }
   ],
   "source": [
    "#python program to accept a filename from the user,print extention of that\n",
    "a=input(\"Enter your filename:\")\n",
    "b=a.split('.')\n",
    "print(\"extension-\",b[-1])"
   ]
  },
  {
   "cell_type": "code",
   "execution_count": 21,
   "id": "3671f6ff",
   "metadata": {},
   "outputs": [
    {
     "name": "stdout",
     "output_type": "stream",
     "text": [
      "Enter the numbers:20,30,40,50,60\n",
      "The given tuple is: ('20', '30', '40', '50', '60')\n",
      "The 3rd element in tuple: 40\n",
      "The 3rd element from the last of a tuple: 40\n"
     ]
    }
   ],
   "source": [
    "#elements from last touple\n",
    "t1=input(\"Enter the numbers:\")\n",
    "t2=tuple(t1.split(\",\"))\n",
    "print(\"The given tuple is:\",t2)\n",
    "print(\"The 3rd element in tuple:\",t2[2])\n",
    "print(\"The 3rd element from the last of a tuple:\",t2[-3])"
   ]
  },
  {
   "cell_type": "code",
   "execution_count": null,
   "id": "2d154031",
   "metadata": {},
   "outputs": [],
   "source": []
  },
  {
   "cell_type": "code",
   "execution_count": null,
   "id": "407d56f7",
   "metadata": {},
   "outputs": [],
   "source": []
  }
 ],
 "metadata": {
  "kernelspec": {
   "display_name": "Python 3 (ipykernel)",
   "language": "python",
   "name": "python3"
  },
  "language_info": {
   "codemirror_mode": {
    "name": "ipython",
    "version": 3
   },
   "file_extension": ".py",
   "mimetype": "text/x-python",
   "name": "python",
   "nbconvert_exporter": "python",
   "pygments_lexer": "ipython3",
   "version": "3.12.3"
  }
 },
 "nbformat": 4,
 "nbformat_minor": 5
}
