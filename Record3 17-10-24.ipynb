
{
 "cells": [
  {
   "cell_type": "code",
   "execution_count": 13,
   "id": "40525dc6",
   "metadata": {},
   "outputs": [
    {
     "name": "stdout",
     "output_type": "stream",
     "text": [
      "Enter the elements in set1:red,blue,green\n",
      "Enter the elements in set2:yellow,black,red\n",
      "The first set is: {'blue', 'green', 'red'}\n",
      "The second set is: {'red', 'black', 'yellow'}\n",
      "The difference of two sets are: {'blue', 'green'}\n"
     ]
    }
   ],
   "source": [
    "#write a python program to print all colors\n",
    "set1=set(input(\"Enter the elements in set1:\").split(\",\"))\n",
    "set2=set(input(\"Enter the elements in set2:\").split(\",\"))\n",
    "print(\"The first set is:\",set1)\n",
    "print(\"The second set is:\",set2)\n",
    "difference=set1-set2\n",
    "print(\"The difference of two sets are:\",difference)"
   ]
  },
  {
   "cell_type": "code",
   "execution_count": 17,
   "id": "b12f60e7",
   "metadata": {},
   "outputs": [
    {
     "name": "stdout",
     "output_type": "stream",
     "text": [
      "Enter 5 roll numbers seperated by commas:2,8,6,34,28\n",
      "Enter 5 students names seperated by commas:soja,anjana,sreya,nada,hudha\n",
      "Dictionary: {'soja': '2', 'anjana': '8', 'sreya': '6', 'nada': '34', 'hudha': '28'}\n",
      "Sorted Dictionary in Ascending Order: {'anjana': '8', 'hudha': '28', 'nada': '34', 'soja': '2', 'sreya': '6'}\n",
      "Sorted Dictionary in Descending Order: {'sreya': '6', 'soja': '2', 'nada': '34', 'hudha': '28', 'anjana': '8'}\n"
     ]
    }
   ],
   "source": [
    "#program to sort dictionary in ascending and decending order\n",
    "r=input(\"Enter 5 roll numbers seperated by commas:\").split(\",\")\n",
    "n=input(\"Enter 5 students names seperated by commas:\").split(\",\")\n",
    "d={n[0]:r[0],n[1]:r[1],n[2]:r[2],n[3]:r[3],n[4]:r[4]}\n",
    "print(\"Dictionary:\",d)\n",
    "s=dict(sorted(d.items(),reverse=False))\n",
    "print(\"Sorted Dictionary in Ascending Order:\",s)\n",
    "s=dict(sorted(d.items(),reverse=True))\n",
    "print(\"Sorted Dictionary in Descending Order:\",s)\n",
    "\n"
   ]
  },
  {
   "cell_type": "code",
   "execution_count": 7,
   "id": "c62e4ddb",
   "metadata": {},
   "outputs": [
    {
     "name": "stdout",
     "output_type": "stream",
     "text": [
      "Enter 3 names seperated by comma:soja,sreya,anjana\n",
      "Enter 2 names seperated by comma:hudha,nada\n",
      " Merged dictionary is: {1: 'soja', 2: 'sreya', 3: 'anjana', 4: 'hudha', 5: 'nada'}\n"
     ]
    }
   ],
   "source": [
    "#to merge two dictionaries\n",
    "n1=input(\"Enter 3 names seperated by comma:\").split(\",\")\n",
    "dict1={1:n1[0],2:n1[1],3:n1[2]}\n",
    "n2=input(\"Enter 2 names seperated by comma:\").split(\",\")\n",
    "dict2={4:n2[0],5:n2[1]}\n",
    "dict1.update(dict2)\n",
    "print(\" Merged dictionary is:\",dict1)"
   ]
  },
  {
   "cell_type": "code",
   "execution_count": 12,
   "id": "ee9a09e3",
   "metadata": {},
   "outputs": [
    {
     "name": "stdout",
     "output_type": "stream",
     "text": [
      "Even numbers from 1 to 25 are: [2, 4, 6, 8, 10, 12, 14, 16, 18, 20, 22, 24]\n",
      "The sum is: 156\n"
     ]
    }
   ],
   "source": [
    "#to print even numbers from 1 to 25\n",
    "a=list(range(2,26,2))\n",
    "print(\"Even numbers from 1 to 25 are:\",a)\n",
    "s=sum(a)\n",
    "print(\"The sum is:\",s)"
   ]
  },
  {
   "cell_type": "code",
   "execution_count": null,
   "id": "a8e1b187",
   "metadata": {},
   "outputs": [],
   "source": []
  }
 ],
 "metadata": {
  "kernelspec": {
   "display_name": "Python 3 (ipykernel)",
   "language": "python",
   "name": "python3"
  },
  "language_info": {
   "codemirror_mode": {
    "name": "ipython",
    "version": 3
   },
   "file_extension": ".py",
   "mimetype": "text/x-python",
   "name": "python",
   "nbconvert_exporter": "python",
   "pygments_lexer": "ipython3",
   "version": "3.12.3"
  }
 },
 "nbformat": 4,
 "nbformat_minor": 5
}
