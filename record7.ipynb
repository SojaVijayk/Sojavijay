
{
 "cells": [
  {
   "cell_type": "code",
   "execution_count": 1,
   "id": "9925ac9e",
   "metadata": {},
   "outputs": [
    {
     "name": "stdout",
     "output_type": "stream",
     "text": [
      "1.RECTANGLE\n",
      "2.CIRCLE\n",
      "3.EXIT\n",
      "Enter your choice:1\n",
      "Enter the length:23\n",
      "Enter the breadth:24\n",
      "Area of the rectangle is: 552\n",
      "Perimeter of the retangle is: 94\n",
      "1.RECTANGLE\n",
      "2.CIRCLE\n",
      "3.EXIT\n",
      "Enter your choice:2\n",
      "Enter the radius:6\n",
      "Area of circle is: 113.04\n",
      "Perimeter of the circle is: 37.68\n",
      "1.RECTANGLE\n",
      "2.CIRCLE\n",
      "3.EXIT\n",
      "Enter your choice:3\n",
      "Exiting\n"
     ]
    }
   ],
   "source": [
    "#to find area and perimeter of a rectangle and a circle by creating modules and importing them\n",
    "from package import rectangle,circle\n",
    "\n",
    "while(1):\n",
    "    print(\"1.RECTANGLE\\n2.CIRCLE\\n3.EXIT\")\n",
    "    ch=int(input(\"Enter your choice:\"))\n",
    "    if ch==1:\n",
    "        l=int(input(\"Enter the length:\"))\n",
    "        b=int(input(\"Enter the breadth:\"))\n",
    "        rectangle.rectarea(l,b)\n",
    "        rectangle.rectperi(l,b)\n",
    "    elif ch==2:\n",
    "        r=int(input(\"Enter the radius:\"))\n",
    "        circle.circlearea(r)\n",
    "        circle.circleperi(r)\n",
    "    else:\n",
    "        print(\"Exiting\")\n",
    "        break"
   ]
  },
  {
   "cell_type": "code",
   "execution_count": 3,
   "id": "200f4842",
   "metadata": {},
   "outputs": [
    {
     "name": "stdout",
     "output_type": "stream",
     "text": [
      "1.RECTANGLE\n",
      "2.CIRCLE\n",
      "3CUBOID\n",
      "4.SPHERE\n",
      "5.EXIT\n",
      "Enter your choice:1\n",
      "Enter the length:2\n",
      "Enter the breadth:3\n",
      "Area of the rectangle is: 6\n",
      "Perimeter of the retangle is: 10\n",
      "1.RECTANGLE\n",
      "2.CIRCLE\n",
      "3CUBOID\n",
      "4.SPHERE\n",
      "5.EXIT\n",
      "Enter your choice:2\n",
      "Enter the radius:3\n",
      "Area of circle is: 28.26\n",
      "Perimeter of the circle is: 18.84\n",
      "1.RECTANGLE\n",
      "2.CIRCLE\n",
      "3CUBOID\n",
      "4.SPHERE\n",
      "5.EXIT\n",
      "Enter your choice:3\n",
      "Enter the length:4\n",
      "Enter the breadth:5\n",
      "Enter the height:6\n",
      "Area of the cuboid is: 94\n",
      "Perimeter of the cuboid is: 60\n",
      "1.RECTANGLE\n",
      "2.CIRCLE\n",
      "3CUBOID\n",
      "4.SPHERE\n",
      "5.EXIT\n",
      "Enter your choice:4\n",
      "Enter the radius:7\n",
      "Area of sphere is: 615.44\n",
      "Perimeter of the sphere is: 43.96\n",
      "1.RECTANGLE\n",
      "2.CIRCLE\n",
      "3CUBOID\n",
      "4.SPHERE\n",
      "5.EXIT\n",
      "Enter your choice:5\n",
      "Exiting\n"
     ]
    }
   ],
   "source": [
    "#find area and perimeter of rectangle,circle,cuboid,sphere \n",
    "from package import rectangle\n",
    "from package import circle\n",
    "from package.graphics3D import cuboid\n",
    "from package.graphics3D import sphere\n",
    "\n",
    "while(1):\n",
    "    print(\"1.RECTANGLE\\n2.CIRCLE\\n3CUBOID\\n4.SPHERE\\n5.EXIT\")\n",
    "    \n",
    "    ch=int(input(\"Enter your choice:\"))\n",
    "    if ch==1:\n",
    "        l=int(input(\"Enter the length:\"))\n",
    "        b=int(input(\"Enter the breadth:\"))\n",
    "        rectangle.rectarea(l,b)\n",
    "        rectangle.rectperi(l,b)\n",
    "    elif ch==2:\n",
    "        r=int(input(\"Enter the radius:\"))\n",
    "        circle.circlearea(r)\n",
    "        circle.circleperi(r)\n",
    "    elif ch==3:\n",
    "        l=int(input(\"Enter the length:\"))\n",
    "        b=int(input(\"Enter the breadth:\"))\n",
    "        h=int(input(\"Enter the height:\"))\n",
    "        cuboid.cuboidarea(l,b,h)\n",
    "        cuboid.cuboidperi(l,b,h)\n",
    "    elif ch==4:\n",
    "        r=int(input(\"Enter the radius:\"))\n",
    "        sphere.spherearea(r)\n",
    "        sphere.sphereperi(r)\n",
    "    else:\n",
    "        print(\"Exiting\")\n",
    "        break"
   ]
  },
  {
   "cell_type": "code",
   "execution_count": null,
   "id": "c65a2d22",
   "metadata": {},
   "outputs": [],
   "source": []
  }
 ],
 "metadata": {
  "kernelspec": {
   "display_name": "Python 3 (ipykernel)",
   "language": "python",
   "name": "python3"
  },
  "language_info": {
   "codemirror_mode": {
    "name": "ipython",
    "version": 3
   },
   "file_extension": ".py",
   "mimetype": "text/x-python",
   "name": "python",
   "nbconvert_exporter": "python",
   "pygments_lexer": "ipython3",
   "version": "3.12.3"
  }
 },
 "nbformat": 4,
 "nbformat_minor": 5
}
