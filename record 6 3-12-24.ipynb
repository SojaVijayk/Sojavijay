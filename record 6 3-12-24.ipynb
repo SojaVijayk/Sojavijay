
{
 "cells": [
  {
   "cell_type": "code",
   "execution_count": 20,
   "id": "fca4e40e",
   "metadata": {},
   "outputs": [
    {
     "name": "stdout",
     "output_type": "stream",
     "text": [
      "Enter the final year:2050\n",
      "Future leap years:\n",
      "year: 2024\n",
      "year: 2028\n",
      "year: 2032\n",
      "year: 2036\n",
      "year: 2040\n",
      "year: 2044\n",
      "year: 2048\n"
     ]
    }
   ],
   "source": [
    "#Display  future leap years from current year to a final year n=by user in python\n",
    "import datetime\n",
    "def display_leap_years():\n",
    "    current_year=datetime.datetime.now().year\n",
    "    final_year=int(input(\"Enter the final year:\"))\n",
    "    print(\"Future leap years:\")\n",
    "    for year in range(current_year, final_year + 1):\n",
    "        if year % 4 == 0 and (year % 100 !=0 or year % 400 == 0):\n",
    "            print(\"year:\",year)\n",
    "display_leap_years()\n",
    "    "
   ]
  },
  {
   "cell_type": "code",
   "execution_count": 22,
   "id": "da57d18d",
   "metadata": {},
   "outputs": [
    {
     "name": "stdout",
     "output_type": "stream",
     "text": [
      "Enter a number:8\n",
      "The factorial of 8 is 40320\n"
     ]
    }
   ],
   "source": [
    "#program to find the factorial to find the factorial of a number \n",
    "def factorial(n):\n",
    "    if n == 0:\n",
    "        return 1\n",
    "    else:\n",
    "        return n * factorial(n-1)\n",
    "num=int(input(\"Enter a number:\"))\n",
    "print(\"The factorial of\", num, \"is\",factorial(num))"
   ]
  },
  {
   "cell_type": "code",
   "execution_count": 7,
   "id": "7f2ceb5b",
   "metadata": {},
   "outputs": [
    {
     "name": "stdout",
     "output_type": "stream",
     "text": [
      "Enter the number of terms:9\n",
      "The fibonacci series is : [0, 1, 1, 2, 3, 5, 8, 13, 21]\n"
     ]
    }
   ],
   "source": [
    "#generate fibonacci series of N terms in python \n",
    "def fibonacci(n):\n",
    "    fibo=[]\n",
    "    a,b=0,1\n",
    "    for i in range(n):\n",
    "        fibo.append(a)\n",
    "        a,b=b,a+b\n",
    "    return fibo\n",
    "num=int(input(\"Enter the number of terms:\"))\n",
    "if num<=0:\n",
    "    print(\"Enter a positive number\")\n",
    "else:\n",
    "    print(\"The fibonacci series is :\",fibonacci(num))\n",
    "\n"
   ]
  },
  {
   "cell_type": "code",
   "execution_count": 10,
   "id": "5b12e8f9",
   "metadata": {},
   "outputs": [
    {
     "name": "stdout",
     "output_type": "stream",
     "text": [
      "Enter a list of words:biscuits dog father littlone\n",
      "The longest word is 'biscuits' and its length is:('biscuits', 8)\n"
     ]
    }
   ],
   "source": [
    "#accept a list of words  and returns the longest word\n",
    "def wordlength(words):\n",
    "    longest=max(words,key=len)\n",
    "    return longest,len(longest)\n",
    "words=input(\"Enter a list of words:\").split()\n",
    "word,length=wordlength(words)\n",
    "length=wordlength(words)\n",
    "print(f\"The longest word is '{word}' and its length is:{length}\")"
   ]
  },
  {
   "cell_type": "code",
   "execution_count": 12,
   "id": "d2e87928",
   "metadata": {},
   "outputs": [
    {
     "name": "stdout",
     "output_type": "stream",
     "text": [
      "*\n",
      "* *\n",
      "* * *\n",
      "* * * *\n",
      "* * * * *\n",
      "* * * *\n",
      "* * *\n",
      "* *\n",
      "*\n"
     ]
    }
   ],
   "source": [
    "#to print a given pattern\n",
    "def pattern(n):\n",
    "    for i in range(1, n + 1):\n",
    "        print(\" \".join([\"*\"]*i))\n",
    "    for i in range(n-1,0,-1):\n",
    "        print(\" \".join([\"*\"] * i))\n",
    "n=5\n",
    "pattern(n)"
   ]
  },
  {
   "cell_type": "code",
   "execution_count": 17,
   "id": "9689263a",
   "metadata": {},
   "outputs": [
    {
     "name": "stdout",
     "output_type": "stream",
     "text": [
      "Enter a number:8\n",
      "It factors are: [1, 2, 4, 8]\n"
     ]
    }
   ],
   "source": [
    "#factors of a number\n",
    "def factors(n):\n",
    "    factor=[]\n",
    "    for i in range(1,n+1):\n",
    "        if n %i==0:\n",
    "            factor.append(i)\n",
    "    return factor\n",
    "num=int(input(\"Enter a number:\"))\n",
    "print(\"It factors are:\",factors(num))"
   ]
  },
  {
   "cell_type": "code",
   "execution_count": 18,
   "id": "b0d66f55",
   "metadata": {},
   "outputs": [
    {
     "name": "stdout",
     "output_type": "stream",
     "text": [
      "Enter the number of steps:7\n",
      "1\n",
      "2 4\n",
      "3 6 9\n",
      "4 8 12 16\n",
      "5 10 15 20 25\n",
      "6 12 18 24 30 36\n",
      "7 14 21 28 35 42 49\n"
     ]
    }
   ],
   "source": [
    "#to display the given pyramid\n",
    "def pyramid(n):\n",
    "    for i in range(1,n+1):\n",
    "        row=[]\n",
    "        for j in range (1, i + 1):\n",
    "            row.append(i*j)\n",
    "        print(\" \".join(map(str,row)))\n",
    "a=int(input(\"Enter the number of steps:\"))\n",
    "pyramid(a)"
   ]
  },
  {
   "cell_type": "code",
   "execution_count": 19,
   "id": "47fce00d",
   "metadata": {},
   "outputs": [
    {
     "name": "stdout",
     "output_type": "stream",
     "text": [
      "Enter the side length of the square:3\n",
      "Enter the length of the rectangle:4\n",
      "Enter the width of the rectangle:5\n",
      "Enter the base of the triangle:3\n",
      "Enter the height of the triangle:2\n",
      "Area of square: 9.0\n",
      "Area of rectangle: 20.0\n",
      "Area of triangle: 3.0\n"
     ]
    }
   ],
   "source": [
    "#write a lambda functions to find area square rectangle and triangle\n",
    "area_square=lambda side:side ** 2\n",
    "area_rectangle=lambda length,width: length *width\n",
    "area_triangle=lambda base,height:0.5 *base *height\n",
    "\n",
    "side=float(input(\"Enter the side length of the square:\"))\n",
    "length=float(input(\"Enter the length of the rectangle:\"))\n",
    "width=float(input(\"Enter the width of the rectangle:\"))\n",
    "base=float(input(\"Enter the base of the triangle:\"))\n",
    "height=float(input(\"Enter the height of the triangle:\"))\n",
    "\n",
    "print(\"Area of square:\",area_square(side))\n",
    "print(\"Area of rectangle:\", area_rectangle(length,width))\n",
    "print(\"Area of triangle:\", area_triangle(base,height))"
   ]
  },
  {
   "cell_type": "code",
   "execution_count": null,
   "id": "83ffb9d3",
   "metadata": {},
   "outputs": [],
   "source": []
  }
 ],
 "metadata": {
  "kernelspec": {
   "display_name": "Python 3 (ipykernel)",
   "language": "python",
   "name": "python3"
  },
  "language_info": {
   "codemirror_mode": {
    "name": "ipython",
    "version": 3
   },
   "file_extension": ".py",
   "mimetype": "text/x-python",
   "name": "python",
   "nbconvert_exporter": "python",
   "pygments_lexer": "ipython3",
   "version": "3.12.3"
  }
 },
 "nbformat": 4,
 "nbformat_minor": 5
}
