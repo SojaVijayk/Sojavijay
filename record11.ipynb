{
 "cells": [
  {
   "cell_type": "code",
   "execution_count": 2,
   "id": "24dc0a48",
   "metadata": {},
   "outputs": [
    {
     "name": "stdout",
     "output_type": "stream",
     "text": [
      "Enter emails and phone numbers separated by commas: soja@gmail.com,9562389124\n",
      "\n",
      "Valid Emails:\n",
      "- soja@gmail.com\n",
      "\n",
      "Valid Phone Numbers:\n",
      "- 9562389124\n"
     ]
    }
   ],
   "source": [
    "import re\n",
    "email_pattern = r'^[a-zA-Z0-9._%+-]+@[a-zA-Z0-9.-]+\\.[a-zA-Z]{2,}$'\n",
    "phone_pattern = r'^\\+?\\d{0,2}[-\\s]?\\d{10}$'\n",
    "\n",
    "user_input = input(\"Enter emails and phone numbers separated by commas: \")\n",
    "\n",
    "inputs = [item.strip() for item in user_input.split(\",\")]\n",
    "\n",
    "valid_emails = []\n",
    "valid_phone_numbers = []\n",
    "\n",
    "for item in inputs:\n",
    "    if re.match(email_pattern, item):\n",
    "        valid_emails.append(item)\n",
    "    elif re.match(phone_pattern, item):\n",
    "        valid_phone_numbers.append(item)\n",
    "\n",
    "print(\"\\nValid Emails:\")\n",
    "for email in valid_emails:\n",
    "    print(f\"- {email}\")\n",
    "\n",
    "print(\"\\nValid Phone Numbers:\")\n",
    "for phone in valid_phone_numbers:\n",
    "    print(f\"- {phone}\")"
   ]
  },
  {
   "cell_type": "code",
   "execution_count": null,
   "id": "ef5fc7fa",
   "metadata": {},
   "outputs": [],
   "source": []
  }
 ],
 "metadata": {
  "kernelspec": {
   "display_name": "Python 3 (ipykernel)",
   "language": "python",
   "name": "python3"
  },
  "language_info": {
   "codemirror_mode": {
    "name": "ipython",
    "version": 3
   },
   "file_extension": ".py",
   "mimetype": "text/x-python",
   "name": "python",
   "nbconvert_exporter": "python",
   "pygments_lexer": "ipython3",
   "version": "3.12.3"
  }
 },
 "nbformat": 4,
 "nbformat_minor": 5
}
