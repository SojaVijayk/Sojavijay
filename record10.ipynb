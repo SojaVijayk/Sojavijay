{
 "cells": [
  {
   "cell_type": "code",
   "execution_count": 1,
   "id": "1fc6b496",
   "metadata": {},
   "outputs": [
    {
     "name": "stdout",
     "output_type": "stream",
     "text": [
      "Enter a number:2\n",
      "Error:Division by zero is not allowed:\n",
      "Program execution completed\n"
     ]
    }
   ],
   "source": [
    "#exception handling\n",
    "try:\n",
    "    a=int(input(\"Enter a number:\"))\n",
    "    result=a/0\n",
    "except ZeroDivisionError:\n",
    "    print(\"Error:Division by zero is not allowed:\")\n",
    "except ValueError:\n",
    "    print(\"Error:invalid input.please enter numeric values\")\n",
    "else:\n",
    "    print(f\"result:{result}\")\n",
    "finally:\n",
    "    print(\"Program execution completed\")"
   ]
  },
  {
   "cell_type": "code",
   "execution_count": null,
   "id": "95305c9e",
   "metadata": {},
   "outputs": [],
   "source": []
  }
 ],
 "metadata": {
  "kernelspec": {
   "display_name": "Python 3 (ipykernel)",
   "language": "python",
   "name": "python3"
  },
  "language_info": {
   "codemirror_mode": {
    "name": "ipython",
    "version": 3
   },
   "file_extension": ".py",
   "mimetype": "text/x-python",
   "name": "python",
   "nbconvert_exporter": "python",
   "pygments_lexer": "ipython3",
   "version": "3.12.3"
  }
 },
 "nbformat": 4,
 "nbformat_minor": 5
}
