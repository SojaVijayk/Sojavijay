
{
 "cells": [
  {
   "cell_type": "markdown",
   "id": "b799df90",
   "metadata": {},
   "source": []
  },
  {
   "cell_type": "code",
   "execution_count": 1,
   "id": "5c185314",
   "metadata": {},
   "outputs": [
    {
     "name": "stdout",
     "output_type": "stream",
     "text": [
      "Enter a number4\n",
      "The number is positive!\n"
     ]
    }
   ],
   "source": [
    "#check whether a number is postive, negative or zero\n",
    "a=int(input(\"Enter a number\"))\n",
    "if a>0:\n",
    "    print(\"The number is positive!\")\n",
    "elif a<0:\n",
    "    print(\"The number is negative!\")\n",
    "else:\n",
    "    print(\"The number is zero!\")"
   ]
  },
  {
   "cell_type": "code",
   "execution_count": 3,
   "id": "cc3b7fc1",
   "metadata": {},
   "outputs": [
    {
     "name": "stdout",
     "output_type": "stream",
     "text": [
      "Enter a number:5\n",
      "It is an odd number.\n"
     ]
    }
   ],
   "source": [
    "#check whether a number is odd or even\n",
    "n=int(input(\"Enter a number:\"))\n",
    "if n%2==0:\n",
    "    printf(\"It is an even number.\")\n",
    "else:\n",
    "    print(\"It is an odd number.\")"
   ]
  },
  {
   "cell_type": "code",
   "execution_count": 4,
   "id": "3ad48455",
   "metadata": {},
   "outputs": [
    {
     "name": "stdout",
     "output_type": "stream",
     "text": [
      "Enter value of A:2\n",
      "Enter value of B:6\n",
      "The value in A after swapping is: 6\n",
      "The value in B after swapping is: 2\n"
     ]
    }
   ],
   "source": [
    "#swap two numbers,without a third variable\n",
    "s=int(input(\"Enter value of A:\"))\n",
    "n=int(input(\"Enter value of B:\"))\n",
    "s,n=n,s\n",
    "print(\"The value in A after swapping is:\",s)\n",
    "print(\"The value in B after swapping is:\",n)"
   ]
  },
  {
   "cell_type": "code",
   "execution_count": 5,
   "id": "b03d69d6",
   "metadata": {},
   "outputs": [
    {
     "name": "stdout",
     "output_type": "stream",
     "text": [
      "Enter a character:e\n",
      "The entered character is a vowel\n"
     ]
    }
   ],
   "source": [
    "#vowels\n",
    "vowels=('a','e','i','o','A','E','I','O','U')\n",
    "a=input(\"Enter a character:\")\n",
    "if a in vowels:\n",
    "    print(\"The entered character is a vowel\")\n",
    "else:\n",
    "    print(\"The entered charater is not a vowel\")"
   ]
  },
  {
   "cell_type": "code",
   "execution_count": 6,
   "id": "b1818245",
   "metadata": {},
   "outputs": [
    {
     "name": "stdout",
     "output_type": "stream",
     "text": [
      "Enter a number:9\n",
      "The square of the number is : 81.0\n"
     ]
    }
   ],
   "source": [
    "#square\n",
    "number=float(input(\"Enter a number:\"))\n",
    "square=number**2\n",
    "print(\"The square of the number is :\",square)"
   ]
  },
  {
   "cell_type": "code",
   "execution_count": 7,
   "id": "14e1ff6a",
   "metadata": {},
   "outputs": [
    {
     "name": "stdout",
     "output_type": "stream",
     "text": [
      "Enter a number:93\n",
      "The number is not divisible by 5.\n"
     ]
    }
   ],
   "source": [
    "#divisible or not divisible\n",
    "number=int(input(\"Enter a number:\"))\n",
    "if number %5==0:\n",
    "    print(\"The number is divisible by 5.\")\n",
    "else:\n",
    "    print(\"The number is not divisible by 5.\")\n",
    "\n"
   ]
  },
  {
   "cell_type": "code",
   "execution_count": null,
   "id": "94ee20ea",
   "metadata": {},
   "outputs": [],
   "source": []
  }
 ],
 "metadata": {
  "kernelspec": {
   "display_name": "Python 3 (ipykernel)",
   "language": "python",
   "name": "python3"
  },
  "language_info": {
   "codemirror_mode": {
    "name": "ipython",
    "version": 3
   },
   "file_extension": ".py",
   "mimetype": "text/x-python",
   "name": "python",
   "nbconvert_exporter": "python",
   "pygments_lexer": "ipython3",
   "version": "3.12.3"
  }
 },
 "nbformat": 4,
 "nbformat_minor": 5
}
