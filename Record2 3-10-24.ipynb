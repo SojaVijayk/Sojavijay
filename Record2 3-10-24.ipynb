{
 "cells": [
  {
   "cell_type": "code",
   "execution_count": 2,
   "id": "f58a2f59",
   "metadata": {},
   "outputs": [
    {
     "name": "stdout",
     "output_type": "stream",
     "text": [
      "Enter the temperature in celcius:40\n",
      "converted temperature in fahrenheit is:%.2f 104.0\n"
     ]
    }
   ],
   "source": [
    "#celcius to fahrenheit\n",
    "celcius=float(input(\"Enter the temperature in celcius:\"))\n",
    "fahrenheit=celcius*9/5+32\n",
    "print(\"converted temperature in fahrenheit is:%.2f\",fahrenheit)"
   ]
  },
  {
   "cell_type": "code",
   "execution_count": 5,
   "id": "3895587f",
   "metadata": {},
   "outputs": [
    {
     "name": "stdout",
     "output_type": "stream",
     "text": [
      "Enter the distance in kilometers:4\n",
      "converted distance in miles:2.49\n"
     ]
    }
   ],
   "source": [
    "#kilometers to miles\n",
    "kilometers=float(input(\"Enter the distance in kilometers:\"))\n",
    "miles=kilometers*(0.62137)\n",
    "print(\"converted distance in miles:%.2f\"%miles)\n"
   ]
  },
  {
   "cell_type": "code",
   "execution_count": 17,
   "id": "51fc3cf6",
   "metadata": {},
   "outputs": [
    {
     "name": "stdout",
     "output_type": "stream",
     "text": [
      "Enter the price of 1st product:30\n",
      "Enter the price of 2nd product:430\n",
      "Enter the price of 3rd product:40\n",
      "Total price of the product is:$500.0\n",
      "Final price(after 15% discount):$425.0\n",
      "Average price of the product :$166.66666666666666\n",
      "product A is expensive than final price:False\n",
      "product B is expensive than final price:True\n",
      "product C is expensive than final price:False\n",
      "Final price is in the range of $50 to $20:False\n"
     ]
    }
   ],
   "source": [
    "#price of 3 products\n",
    "A=float(input(\"Enter the price of 1st product:\"))\n",
    "B=float(input(\"Enter the price of 2nd product:\"))\n",
    "C=float(input(\"Enter the price of 3rd product:\"))\n",
    "Total_price=A+B+C\n",
    "print(f\"Total price of the product is:${Total_price}\")\n",
    "Discount=Total_price*0.15\n",
    "Final_price=Total_price-Discount\n",
    "print(f\"Final price(after 15% discount):${Final_price}\")\n",
    "Avg=Total_price/3\n",
    "print(f\"Average price of the product :${Avg}\")\n",
    "print(f\"product A is expensive than final price:{A>Final_price}\")\n",
    "print(f\"product B is expensive than final price:{B>Final_price}\")\n",
    "print(f\"product C is expensive than final price:{C>Final_price}\")\n",
    "print(f\"Final price is in the range of $50 to $20:{50<=Final_price<=20}\")"
   ]
  },
  {
   "cell_type": "code",
   "execution_count": null,
   "id": "6495c0bd",
   "metadata": {},
   "outputs": [],
   "source": []
  }
 ],
 "metadata": {
  "kernelspec": {
   "display_name": "Python 3 (ipykernel)",
   "language": "python",
   "name": "python3"
  },
  "language_info": {
   "codemirror_mode": {
    "name": "ipython",
    "version": 3
   },
   "file_extension": ".py",
   "mimetype": "text/x-python",
   "name": "python",
   "nbconvert_exporter": "python",
   "pygments_lexer": "ipython3",
   "version": "3.12.3"
  }
 },
 "nbformat": 4,
 "nbformat_minor": 5
}
