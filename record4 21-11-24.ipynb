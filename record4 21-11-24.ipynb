{
 "cells": [
  {
   "cell_type": "code",
   "execution_count": 4,
   "id": "67e37113",
   "metadata": {},
   "outputs": [
    {
     "name": "stdout",
     "output_type": "stream",
     "text": [
      "Enter a line of text:count the occurence of the list\n",
      "of 1\n",
      "list 1\n",
      "the 2\n",
      "occurence 1\n",
      "count 1\n"
     ]
    }
   ],
   "source": [
    "#program to count the occurence of each word in a line of text\n",
    "text=input(\"Enter a line of text:\").lower().split()\n",
    "for word in set(text):\n",
    "    print(word,text.count(word))"
   ]
  },
  {
   "cell_type": "code",
   "execution_count": 7,
   "id": "fb950749",
   "metadata": {},
   "outputs": [
    {
     "name": "stdout",
     "output_type": "stream",
     "text": [
      "Enter a list of integers  seperated by spaces:12 234 267 14 50 67\n",
      "Processed list is: [12, 'over', 'over', 14, 50, 67]\n"
     ]
    }
   ],
   "source": [
    "#prompt the user for a list of integers\n",
    "listint=input(\"Enter a list of integers  seperated by spaces:\")\n",
    "result=[]\n",
    "for x in listint.split():\n",
    "    result.append(\"over\" if int(x)>100 else int(x))\n",
    "print(\"Processed list is:\",result)"
   ]
  },
  {
   "cell_type": "code",
   "execution_count": 8,
   "id": "9b2f0f62",
   "metadata": {},
   "outputs": [
    {
     "name": "stdout",
     "output_type": "stream",
     "text": [
      "Enter a list of first names: soja sreya nada hudha anjana \n",
      "Occurence of 'a' is : 8\n"
     ]
    }
   ],
   "source": [
    "#to store the list of first names and count the occurence of 'a'\n",
    "names=input(\"Enter a list of first names: \").split(\".\")\n",
    "count=sum(name.lower().count('a')for name in names)\n",
    "print(\"Occurence of 'a' is :\",count)"
   ]
  },
  {
   "cell_type": "code",
   "execution_count": 12,
   "id": "1d89c5da",
   "metadata": {},
   "outputs": [
    {
     "name": "stdout",
     "output_type": "stream",
     "text": [
      "Enter the elements in list1:1 2 3 4 5\n",
      "Enter the elements in list2:6 7 8 9 4\n",
      "Is the length same? True\n",
      "Is the sum same? False\n",
      "Any common values? True\n",
      "common values are: {4}\n"
     ]
    }
   ],
   "source": [
    "#enter a list of integers:a0chech whether the list are of the same lengthb)whether the list sum to same valuec)whether any color occur in both.\n",
    "l1=list(map(int,input(\"Enter the elements in list1:\").split()))\n",
    "l2=list(map(int,input(\"Enter the elements in list2:\").split()))\n",
    "length=len(l1)==len(l2)\n",
    "print(\"Is the length same?\",length)\n",
    "add=sum(l1)==sum(l2)\n",
    "print(\"Is the sum same?\",add)\n",
    "values=set(l1).intersection(set(l2))\n",
    "common_value=len(values)>0\n",
    "print(\"Any common values?\",common_value)\n",
    "if common_value:\n",
    "    print(\"common values are:\",values)"
   ]
  },
  {
   "cell_type": "code",
   "execution_count": 3,
   "id": "de115d25",
   "metadata": {},
   "outputs": [
    {
     "name": "stdout",
     "output_type": "stream",
     "text": [
      "Enter the elements in list1:2 -4 58 6 -23\n",
      "Positive numbers: [2, 58, 6]\n",
      "Enter the number  of terms to square:8\n",
      "squares: [1, 4, 9, 16, 25, 36, 49, 64]\n",
      "Enter a word:hello\n",
      "vowels in the word: ['e', 'o']\n",
      "Ordinals values: [104, 101, 108, 108, 111]\n"
     ]
    }
   ],
   "source": [
    "#list comprehension\n",
    "no=list(map(int,input(\"Enter the elements in list1:\").split()))\n",
    "pos_num=[num for num in no if num>0]\n",
    "print(\"Positive numbers:\",pos_num)\n",
    "\n",
    "n=int(input(\"Enter the number  of terms to square:\"))\n",
    "squares=[x ** 2 for x in range (1,n+1)]\n",
    "print(\"squares:\",squares)\n",
    "\n",
    "word=input(\"Enter a word:\")\n",
    "vowels=[char for char in word if char in 'aeiouAEIOU']\n",
    "print(\"vowels in the word:\",vowels)\n",
    "ordinals=[ord(char) for char in word]\n",
    "print(\"Ordinals values:\",ordinals)"
   ]
  },
  {
   "cell_type": "code",
   "execution_count": null,
   "id": "96f66443",
   "metadata": {},
   "outputs": [],
   "source": []
  }
 ],
 "metadata": {
  "kernelspec": {
   "display_name": "Python 3 (ipykernel)",
   "language": "python",
   "name": "python3"
  },
  "language_info": {
   "codemirror_mode": {
    "name": "ipython",
    "version": 3
   },
   "file_extension": ".py",
   "mimetype": "text/x-python",
   "name": "python",
   "nbconvert_exporter": "python",
   "pygments_lexer": "ipython3",
   "version": "3.12.3"
  }
 },
 "nbformat": 4,
 "nbformat_minor": 5
}
