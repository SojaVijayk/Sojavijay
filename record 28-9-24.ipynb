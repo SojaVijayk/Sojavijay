{
 "cells": [
  {
   "cell_type": "code",
   "execution_count": 6,
   "id": "829f1c07",
   "metadata": {},
   "outputs": [
    {
     "name": "stdout",
     "output_type": "stream",
     "text": [
      "enter the integer number:8\n",
      "8+88+888=984\n"
     ]
    }
   ],
   "source": [
    "#compute n+nn+nnn?\n",
    "n=input(\"enter the integer number:\")\n",
    "result=int(n)+int(n*2)+int(n*3)\n",
    "print(f\"{n}+{n*2}+{n*3}={result}\")"
   ]
  },
  {
   "cell_type": "code",
   "execution_count": 1,
   "id": "ce77e27a",
   "metadata": {},
   "outputs": [
    {
     "name": "stdout",
     "output_type": "stream",
     "text": [
      "Enter radius of a circle:6\n",
      "Area of a circle=146499.84\n"
     ]
    }
   ],
   "source": [
    "#compute area of a circle\n",
    "import math\n",
    "pi=3.14\n",
    "radius=float(input(\"Enter radius of a circle:\"))\n",
    "area=pi*radius**radius\n",
    "print(\"Area of a circle=%.2f\" %area)\n",
    "\n",
    "\n",
    " "
   ]
  },
  {
   "cell_type": "code",
   "execution_count": 10,
   "id": "7fce1965",
   "metadata": {},
   "outputs": [
    {
     "name": "stdout",
     "output_type": "stream",
     "text": [
      "enter the first number:3\n",
      "enter the second number:5\n",
      "enter the third number:8\n",
      "the biggest number is 8\n"
     ]
    }
   ],
   "source": [
    "#biggest of a number\n",
    "import math\n",
    "a=int(input(\"enter the first number:\"))\n",
    "b=int(input(\"enter the second number:\"))\n",
    "c=int(input(\"enter the third number:\"))\n",
    "biggest=max(a,b,c)\n",
    "print(\"the biggest number is\",biggest)\n",
    "\n"
   ]
  },
  {
   "cell_type": "code",
   "execution_count": null,
   "id": "b0c9062a",
   "metadata": {},
   "outputs": [],
   "source": []
  }
 ],
 "metadata": {
  "kernelspec": {
   "display_name": "Python 3 (ipykernel)",
   "language": "python",
   "name": "python3"
  },
  "language_info": {
   "codemirror_mode": {
    "name": "ipython",
    "version": 3
   },
   "file_extension": ".py",
   "mimetype": "text/x-python",
   "name": "python",
   "nbconvert_exporter": "python",
   "pygments_lexer": "ipython3",
   "version": "3.12.3"
  }
 },
 "nbformat": 4,
 "nbformat_minor": 5
}
