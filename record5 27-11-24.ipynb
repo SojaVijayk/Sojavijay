
{
 "cells": [
  {
   "cell_type": "code",
   "execution_count": 1,
   "id": "d8384f43",
   "metadata": {},
   "outputs": [
    {
     "name": "stdout",
     "output_type": "stream",
     "text": [
      "Enter 1st number:36\n",
      "Enter 2nd number:75\n",
      "GCD is : 3\n"
     ]
    }
   ],
   "source": [
    "#GCD of two numbers\n",
    "a=int(input(\"Enter 1st number:\"))\n",
    "b=int(input(\"Enter 2nd number:\"))\n",
    "while b!=0:\n",
    "    a,b=b,a%b\n",
    "print(\"GCD is :\",a)"
   ]
  },
  {
   "cell_type": "code",
   "execution_count": 5,
   "id": "2d965d9e",
   "metadata": {},
   "outputs": [
    {
     "name": "stdout",
     "output_type": "stream",
     "text": [
      "List without even number is: [1, 3, 5, 7, 9]\n"
     ]
    }
   ],
   "source": [
    "#create a list of integers,create a list removing even numbers\n",
    "num=[1,2,3,4,5,6,7,8,9,10]\n",
    "odd=[n for n  in num if n %2!= 0]\n",
    "print(\"List without even number is:\",odd)"
   ]
  },
  {
   "cell_type": "code",
   "execution_count": 6,
   "id": "bbc94e46",
   "metadata": {},
   "outputs": [
    {
     "name": "stdout",
     "output_type": "stream",
     "text": [
      "Enter numbers seperated by space:3 5 7 2 8\n",
      "The sum of all inputs is: 25\n"
     ]
    }
   ],
   "source": [
    "#to fimd the sum of all items in a list\n",
    "n=input(\"Enter numbers seperated by space:\")\n",
    "numbers=list(map(int,n.split()))\n",
    "total_sum=sum(numbers)\n",
    "print(\"The sum of all inputs is:\",total_sum)"
   ]
  },
  {
   "cell_type": "code",
   "execution_count": 3,
   "id": "ccdcf7a9",
   "metadata": {},
   "outputs": [
    {
     "name": "stdout",
     "output_type": "stream",
     "text": [
      "Enter the lower list:1003\n",
      "Enter the upper list:7777\n",
      "Valid four digit perfect squares with all even digits [4624, 6084, 6400]\n"
     ]
    }
   ],
   "source": [
    "#to generate a list of four digit nu,bers in a given range with all their digits even and the number is a perfect square.\n",
    "import math\n",
    "lower=int(input(\"Enter the lower list:\"))\n",
    "upper=int(input(\"Enter the upper list:\"))\n",
    "valid_nos=[]\n",
    "for num in range (lower,upper+1):\n",
    "        if int(math.sqrt(num)) ** 2 == num:\n",
    "            if all(int (digit) % 2 == 0 for digit in str(num)):\n",
    "                valid_nos.append(num)\n",
    "print(\"Valid four digit perfect squares with all even digits\", valid_nos)"
   ]
  },
  {
   "cell_type": "code",
   "execution_count": null,
   "id": "85bb8ea2",
   "metadata": {},
   "outputs": [],
   "source": [
    "#count the number of characters in a string\n",
    "from collections import Counter\n",
    "string=input(\"Enter a string:\")\n",
    "freq=Counter(string)\n",
    "print(\"Character frequency:\",freq)"
   ]
  },
  {
   "cell_type": "code",
   "execution_count": 11,
   "id": "921edfd1",
   "metadata": {},
   "outputs": [
    {
     "name": "stdout",
     "output_type": "stream",
     "text": [
      "Enter a word:hello\n",
      "The output is: helloing\n"
     ]
    }
   ],
   "source": [
    "#add 'ing' at the end of a given string.if it already ends with 'ing',then add 'ly'.\n",
    "word=input(\"Enter a word:\")\n",
    "if word.endswith(\"ing\"):\n",
    "    word += \"ly\"\n",
    "else:\n",
    "    word+= \"ing\"\n",
    "print(\"The output is:\",word)"
   ]
  },
  {
   "cell_type": "code",
   "execution_count": null,
   "id": "e7ae76f7",
   "metadata": {},
   "outputs": [],
   "source": []
  }
 ],
 "metadata": {
  "kernelspec": {
   "display_name": "Python 3 (ipykernel)",
   "language": "python",
   "name": "python3"
  },
  "language_info": {
   "codemirror_mode": {
    "name": "ipython",
    "version": 3
   },
   "file_extension": ".py",
   "mimetype": "text/x-python",
   "name": "python",
   "nbconvert_exporter": "python",
   "pygments_lexer": "ipython3",
   "version": "3.12.3"
  }
 },
 "nbformat": 4,
 "nbformat_minor": 5
}
